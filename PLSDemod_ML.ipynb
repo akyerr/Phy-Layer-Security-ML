{
 "cells": [
  {
   "cell_type": "code",
   "execution_count": 132,
   "metadata": {},
   "outputs": [],
   "source": [
    "import os\n",
    "from pickle import load\n",
    "import matplotlib.pyplot as plt\n",
    "from numpy import array, stack\n",
    "import torch \n",
    "from torch.utils.data import Dataset, DataLoader, random_split\n",
    "from torch import nn \n",
    "from torch import optim \n",
    "from torchsummary import summary"
   ]
  },
  {
   "cell_type": "markdown",
   "metadata": {},
   "source": [
    "## Load precoder dataset"
   ]
  },
  {
   "cell_type": "code",
   "execution_count": 133,
   "metadata": {},
   "outputs": [],
   "source": [
    "def load_dataset(dir_name, fading, num_ant, SNR_dB, bit_codebook):\n",
    "\n",
    "    if not os.path.exists(dir_name):\n",
    "        os.makedirs(dir_name)\n",
    "    file_name = f'{dir_name}/{fading}_precoder_data_{num_ant}_ant_SNR_{SNR_dB}dB_{bit_codebook}_bit_codebk'\n",
    "    print(file_name)\n",
    "    with open(f'{file_name}.pkl', 'rb') as f:\n",
    "        precoders, labels = load(f)\n",
    "    return precoders, labels"
   ]
  },
  {
   "cell_type": "markdown",
   "metadata": {},
   "source": [
    "## Visualization of Data"
   ]
  },
  {
   "cell_type": "code",
   "execution_count": 134,
   "metadata": {},
   "outputs": [],
   "source": [
    "def visualize(precoders):\n",
    "    # test plots\n",
    "    for i in range(2):\n",
    "        plt.scatter(precoders[i][0::2], precoders[i][1::2])\n",
    "        plt.show()"
   ]
  },
  {
   "cell_type": "markdown",
   "metadata": {},
   "source": [
    "## Precoder dataset class that packages the dataset into a format compatible with PyTorch"
   ]
  },
  {
   "cell_type": "code",
   "execution_count": 135,
   "metadata": {},
   "outputs": [],
   "source": [
    "class PrecoderDataset(Dataset):\n",
    "    def __init__(self, data, target, transform=None):\n",
    "        self.data = torch.from_numpy(data).float()\n",
    "        self.target = torch.from_numpy(target).long()\n",
    "        self.transform = transform\n",
    "        \n",
    "    def __getitem__(self, index):\n",
    "        x = self.data[index]\n",
    "        y = self.target[index]\n",
    "        \n",
    "        if self.transform:\n",
    "            x = self.transform(x)\n",
    "        return x, y\n",
    "    \n",
    "    def __len__(self):\n",
    "        return len(self.data)"
   ]
  },
  {
   "cell_type": "markdown",
   "metadata": {},
   "source": [
    "## Neural Network Class"
   ]
  },
  {
   "cell_type": "code",
   "execution_count": 136,
   "metadata": {},
   "outputs": [],
   "source": [
    "\n",
    "class Model(torch.nn.Module):\n",
    "    def __init__(self, input_size, output_size):\n",
    "        super(Model, self).__init__()\n",
    "        # define layers and activation function as class parameters\n",
    "        self.fc1 = nn.Linear(in_features=input_size, out_features=100)\n",
    "        self.fc2 = nn.Linear(in_features=100, out_features=100)\n",
    "        self.output = nn.Linear(in_features=100, out_features=output_size)\n",
    "        self.relu = torch.nn.ReLU()\n",
    "        self.softmax = torch.nn.Softmax()\n",
    "\n",
    "    def forward(self, x):\n",
    "        # define NN connections here, output of last layer is pred\n",
    "        x = self.relu(self.fc1(x))\n",
    "        x = self.relu(self.fc2(x))\n",
    "        pred = self.softmax(self.output(x))\n",
    "        return pred\n"
   ]
  },
  {
   "cell_type": "markdown",
   "metadata": {},
   "source": [
    "## Essential System Parameters"
   ]
  },
  {
   "cell_type": "code",
   "execution_count": 137,
   "metadata": {},
   "outputs": [],
   "source": [
    "max_iter = 100000\n",
    "fading = 1\n",
    "num_ant = [2, 4]\n",
    "SNR_dB = [10, 20, 40]\n",
    "bit_codebook = [1, 2]\n",
    "visual = 0"
   ]
  },
  {
   "cell_type": "markdown",
   "metadata": {},
   "source": [
    "## Training Parameters"
   ]
  },
  {
   "cell_type": "code",
   "execution_count": 138,
   "metadata": {},
   "outputs": [],
   "source": [
    "learning_rate = 0.01\n",
    "optimizer = optim.SGD(model.parameters(), lr=learning_rate)\n",
    "# optimizer = optim.Adam(model.parameters(), lr=learning_rate)\n",
    "loss = nn.CrossEntropyLoss()\n",
    "num_epochs = 5 # Number of times you go through the whole dataset"
   ]
  },
  {
   "cell_type": "markdown",
   "metadata": {},
   "source": [
    "## Simulation iterations\n",
    "1. Load dataset\n",
    "2. Visualize, if necessary \n",
    "3. Create instance of precoder dataset class (Package dataset such that it is compatible for PyTorch)\n",
    "4. Split dataset into 80% training and 20% validation\n",
    "5. Create PyTorch dataloaders for training and validation data (Dataloaders divide the dataset into chuncks called batches. We can pass data to the neural network one batch at a time) \n",
    "6. Create an instance of neural network class\n",
    "7. Define the loss and optimizer\n",
    "8. Epoch - one pass of the entire dataset (training + validation)\n",
    "9. In each epoch you iterate over several batches (Batch - chunk of data that is fed to the neural network in one go) "
   ]
  },
  {
   "cell_type": "code",
   "execution_count": 139,
   "metadata": {},
   "outputs": [
    {
     "name": "stdout",
     "output_type": "stream",
     "text": [
      "10 dB, 2 antennas, 1 bit codebook\n",
      "datasets/1_precoder_data_2_ant_SNR_10dB_1_bit_codebk\n"
     ]
    },
    {
     "data": {
      "image/png": "[encoded data removed]",
      "text/plain": [
       "<Figure size 432x288 with 1 Axes>"
      ]
     },
     "metadata": {
      "needs_background": "light"
     },
     "output_type": "display_data"
    },
    {
     "data": {
      "image/png": "[encoded data removed]",
      "text/plain": [
       "<Figure size 432x288 with 1 Axes>"
      ]
     },
     "metadata": {
      "needs_background": "light"
     },
     "output_type": "display_data"
    },
    {
     "name": "stderr",
     "output_type": "stream",
     "text": [
      "/home/utsa/.local/lib/python3.7/site-packages/ipykernel_launcher.py:15: UserWarning: Implicit dimension choice for softmax has been deprecated. Change the call to include dim=X as an argument.\n",
      "  from ipykernel import kernelapp as app\n"
     ]
    },
    {
     "name": "stdout",
     "output_type": "stream",
     "text": [
      "Epoch 1, training loss: 0.69170070, training accuracy: 50.0225%, validation loss: 0.69178784, validation accuracy: 49.845%\n",
      "Epoch 2, training loss: 0.69170064, training accuracy: 50.0225%, validation loss: 0.69176245, validation accuracy: 49.845%\n",
      "Epoch 3, training loss: 0.69170064, training accuracy: 50.0225%, validation loss: 0.69177979, validation accuracy: 49.845%\n",
      "Epoch 4, training loss: 0.69170070, training accuracy: 50.0225%, validation loss: 0.69177127, validation accuracy: 49.845%\n",
      "Epoch 5, training loss: 0.69170070, training accuracy: 50.0225%, validation loss: 0.69175917, validation accuracy: 49.845%\n",
      "10 dB, 2 antennas, 2 bit codebook\n",
      "datasets/1_precoder_data_2_ant_SNR_10dB_2_bit_codebk\n"
     ]
    },
    {
     "data": {
      "image/png": "[encoded data removed]",
      "text/plain": [
       "<Figure size 432x288 with 1 Axes>"
      ]
     },
     "metadata": {
      "needs_background": "light"
     },
     "output_type": "display_data"
    },
    {
     "data": {
      "image/png": "[encoded data removed]",
      "text/plain": [
       "<Figure size 432x288 with 1 Axes>"
      ]
     },
     "metadata": {
      "needs_background": "light"
     },
     "output_type": "display_data"
    },
    {
     "name": "stdout",
     "output_type": "stream",
     "text": [
      "Epoch 1, training loss: 1.38911068, training accuracy: 25.035%, validation loss: 1.38900578, validation accuracy: 25.525%\n",
      "Epoch 2, training loss: 1.38911057, training accuracy: 25.035%, validation loss: 1.38897741, validation accuracy: 25.525%\n",
      "Epoch 3, training loss: 1.38911057, training accuracy: 25.035%, validation loss: 1.38900769, validation accuracy: 25.525%\n",
      "Epoch 4, training loss: 1.38911068, training accuracy: 25.035%, validation loss: 1.38900280, validation accuracy: 25.525%\n",
      "Epoch 5, training loss: 1.38911068, training accuracy: 25.035%, validation loss: 1.38897419, validation accuracy: 25.525%\n",
      "10 dB, 4 antennas, 1 bit codebook\n",
      "datasets/1_precoder_data_4_ant_SNR_10dB_1_bit_codebk\n"
     ]
    },
    {
     "ename": "FileNotFoundError",
     "evalue": "[Errno 2] No such file or directory: 'datasets/1_precoder_data_4_ant_SNR_10dB_1_bit_codebk.pkl'",
     "output_type": "error",
     "traceback": [
      "\u001b[0;31m---------------------------------------------------------------------------\u001b[0m",
      "\u001b[0;31mFileNotFoundError\u001b[0m                         Traceback (most recent call last)",
      "\u001b[0;32m<ipython-input-139-35f971af742a>\u001b[0m in \u001b[0;36m<module>\u001b[0;34m\u001b[0m\n\u001b[1;32m      3\u001b[0m         \u001b[0;32mfor\u001b[0m \u001b[0mbit\u001b[0m \u001b[0;32min\u001b[0m \u001b[0mbit_codebook\u001b[0m\u001b[0;34m:\u001b[0m\u001b[0;34m\u001b[0m\u001b[0;34m\u001b[0m\u001b[0m\n\u001b[1;32m      4\u001b[0m             \u001b[0mprint\u001b[0m\u001b[0;34m(\u001b[0m\u001b[0;34mf'{SNR} dB, {ant} antennas, {bit} bit codebook'\u001b[0m\u001b[0;34m)\u001b[0m\u001b[0;34m\u001b[0m\u001b[0;34m\u001b[0m\u001b[0m\n\u001b[0;32m----> 5\u001b[0;31m             \u001b[0mprecoders\u001b[0m\u001b[0;34m,\u001b[0m \u001b[0mlabels\u001b[0m \u001b[0;34m=\u001b[0m \u001b[0mload_dataset\u001b[0m\u001b[0;34m(\u001b[0m\u001b[0;34m'datasets'\u001b[0m\u001b[0;34m,\u001b[0m \u001b[0mfading\u001b[0m\u001b[0;34m,\u001b[0m \u001b[0mant\u001b[0m\u001b[0;34m,\u001b[0m \u001b[0mSNR\u001b[0m\u001b[0;34m,\u001b[0m \u001b[0mbit\u001b[0m\u001b[0;34m)\u001b[0m\u001b[0;34m\u001b[0m\u001b[0;34m\u001b[0m\u001b[0m\n\u001b[0m\u001b[1;32m      6\u001b[0m             \u001b[0mvisualize\u001b[0m\u001b[0;34m(\u001b[0m\u001b[0mprecoders\u001b[0m\u001b[0;34m)\u001b[0m\u001b[0;34m\u001b[0m\u001b[0;34m\u001b[0m\u001b[0m\n\u001b[1;32m      7\u001b[0m \u001b[0;34m\u001b[0m\u001b[0m\n",
      "\u001b[0;32m<ipython-input-133-529c16c6c308>\u001b[0m in \u001b[0;36mload_dataset\u001b[0;34m(dir_name, fading, num_ant, SNR_dB, bit_codebook)\u001b[0m\n\u001b[1;32m      5\u001b[0m     \u001b[0mfile_name\u001b[0m \u001b[0;34m=\u001b[0m \u001b[0;34mf'{dir_name}/{fading}_precoder_data_{num_ant}_ant_SNR_{SNR_dB}dB_{bit_codebook}_bit_codebk'\u001b[0m\u001b[0;34m\u001b[0m\u001b[0;34m\u001b[0m\u001b[0m\n\u001b[1;32m      6\u001b[0m     \u001b[0mprint\u001b[0m\u001b[0;34m(\u001b[0m\u001b[0mfile_name\u001b[0m\u001b[0;34m)\u001b[0m\u001b[0;34m\u001b[0m\u001b[0;34m\u001b[0m\u001b[0m\n\u001b[0;32m----> 7\u001b[0;31m     \u001b[0;32mwith\u001b[0m \u001b[0mopen\u001b[0m\u001b[0;34m(\u001b[0m\u001b[0;34mf'{file_name}.pkl'\u001b[0m\u001b[0;34m,\u001b[0m \u001b[0;34m'rb'\u001b[0m\u001b[0;34m)\u001b[0m \u001b[0;32mas\u001b[0m \u001b[0mf\u001b[0m\u001b[0;34m:\u001b[0m\u001b[0;34m\u001b[0m\u001b[0;34m\u001b[0m\u001b[0m\n\u001b[0m\u001b[1;32m      8\u001b[0m         \u001b[0mprecoders\u001b[0m\u001b[0;34m,\u001b[0m \u001b[0mlabels\u001b[0m \u001b[0;34m=\u001b[0m \u001b[0mload\u001b[0m\u001b[0;34m(\u001b[0m\u001b[0mf\u001b[0m\u001b[0;34m)\u001b[0m\u001b[0;34m\u001b[0m\u001b[0;34m\u001b[0m\u001b[0m\n\u001b[1;32m      9\u001b[0m     \u001b[0;32mreturn\u001b[0m \u001b[0mprecoders\u001b[0m\u001b[0;34m,\u001b[0m \u001b[0mlabels\u001b[0m\u001b[0;34m\u001b[0m\u001b[0;34m\u001b[0m\u001b[0m\n",
      "\u001b[0;31mFileNotFoundError\u001b[0m: [Errno 2] No such file or directory: 'datasets/1_precoder_data_4_ant_SNR_10dB_1_bit_codebk.pkl'"
     ]
    }
   ],
   "source": [
    "for SNR in SNR_dB:\n",
    "    for ant in num_ant:\n",
    "        for bit in bit_codebook:\n",
    "            print(f'======{SNR} dB, {ant} antennas, {bit} bit codebook======')\n",
    "            \n",
    "            precoders, labels = load_dataset('datasets', fading, ant, SNR, bit)\n",
    "            if visual == 1:\n",
    "                visualize(precoders)\n",
    "\n",
    "            precoder_data = stack(precoders, axis=0)\n",
    "            precoder_labels = array(labels)    \n",
    "\n",
    "            precoder_dataset = PrecoderDataset(precoder_data, precoder_labels)\n",
    "            train, val = random_split(precoder_dataset, [int(0.8*max_iter), int(0.2*max_iter)])\n",
    "            train_loader = DataLoader(train, batch_size=128, shuffle=True, num_workers=0)\n",
    "            val_loader = DataLoader(val, batch_size=128, shuffle=True, num_workers=0)\n",
    "            \n",
    "            num_classes = 2**bit\n",
    "            nn_input_size = 2*ant*ant\n",
    "            nn_output_size = num_classes\n",
    "            \n",
    "            model = Model(nn_input_size, nn_output_size)\n",
    "\n",
    "            if torch.cuda.is_available():\n",
    "                model.cuda()\n",
    "\n",
    "            \n",
    "            for epoch in range(num_epochs):\n",
    "\n",
    "                # TRAINING\n",
    "                model.train()\n",
    "                training_total_correct = 0\n",
    "                training_losses = list()\n",
    "                for batch in train_loader:\n",
    "\n",
    "                    x, y = batch # extracted from the batch \n",
    "\n",
    "                    if torch.cuda.is_available():\n",
    "                        x = x.cuda()\n",
    "                        y = y.cuda()\n",
    "\n",
    "                    # step 1: forward pass \n",
    "                    prob = model(x) \n",
    "\n",
    "                    output = prob\n",
    "                    target = y\n",
    "\n",
    "                    # step 2: compute objective function - measuring distance between the output of the network vs actual answer \n",
    "                    obj_func = loss(output, target)\n",
    "\n",
    "                    # step 3: clear the gradients \n",
    "                    model.zero_grad()\n",
    "\n",
    "                    # step 4: accumulate partial derivatives of obj_func wrt parameters \n",
    "                    obj_func.backward()\n",
    "\n",
    "                    # step 5: step in the opposite direction of the gradient \n",
    "                    optimizer.step()\n",
    "\n",
    "                    training_losses.append(obj_func.item())\n",
    "\n",
    "                    max_prob, max_ind = torch.max(output, 1)\n",
    "                    for ind in range(len(max_ind)):\n",
    "                        if torch.equal(max_ind[ind], y[ind]):\n",
    "                            training_total_correct += 1    \n",
    "\n",
    "                # VALIDATION\n",
    "                model.eval()\n",
    "\n",
    "                validation_total_correct = 0\n",
    "                validation_losses = list()\n",
    "                for batch in val_loader:\n",
    "\n",
    "                    x, y = batch # extracted from the batch \n",
    "\n",
    "                    if torch.cuda.is_available():\n",
    "                        x = x.cuda()\n",
    "                        y = y.cuda()\n",
    "\n",
    "                    # step 1: forward pass \n",
    "                    with torch.no_grad():\n",
    "                        prob = model(x) \n",
    "\n",
    "                    output = prob\n",
    "                    target = y\n",
    "\n",
    "                    # step 2: compute objective function - measuring distance between the output of the network vs actual answer \n",
    "                    obj_func = loss(output, target)\n",
    "                    validation_losses.append(obj_func.item())\n",
    "\n",
    "                    max_prob, max_ind = torch.max(output, 1)\n",
    "\n",
    "                    for ind in range(len(max_ind)):\n",
    "                        if torch.equal(max_ind[ind], y[ind]):\n",
    "                            validation_total_correct += 1\n",
    "                training_accuracy = (training_total_correct/len(train))*100  \n",
    "                validation_accuracy = (validation_total_correct/len(val))*100   \n",
    "\n",
    "                print(f'Epoch {epoch + 1}, training loss: {torch.tensor(training_losses).mean():.8f}, training accuracy: {training_accuracy}%, validation loss: {torch.tensor(validation_losses).mean():.8f}, validation accuracy: {validation_accuracy}%')"
   ]
  }
 ],
 "metadata": {
  "kernelspec": {
   "display_name": "Python 3",
   "language": "python",
   "name": "python3"
  },
  "language_info": {
   "codemirror_mode": {
    "name": "ipython",
    "version": 3
   },
   "file_extension": ".py",
   "mimetype": "text/x-python",
   "name": "python",
   "nbconvert_exporter": "python",
   "pygments_lexer": "ipython3",
   "version": "3.7.9"
  }
 },
 "nbformat": 4,
 "nbformat_minor": 4
}
