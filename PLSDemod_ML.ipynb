{
 "cells": [
  {
   "cell_type": "code",
   "execution_count": 38,
   "metadata": {},
   "outputs": [],
   "source": [
    "import os\n",
    "from zipfile import is_zipfile, ZipFile\n",
    "from pickle import load, dump\n",
    "import matplotlib.pyplot as plt\n",
    "from numpy import array, stack, zeros\n",
    "import torch \n",
    "from torch.utils.data import Dataset, DataLoader, random_split\n",
    "from torch import nn \n",
    "from torch import optim \n",
    "# from torchsummary import summary"
   ]
  },
  {
   "cell_type": "markdown",
   "metadata": {
    "pycharm": {
     "name": "#%% md\n"
    }
   },
   "source": [
    "## Unzip precoder dataset"
   ]
  },
  {
   "cell_type": "code",
   "execution_count": 39,
   "metadata": {
    "collapsed": false,
    "jupyter": {
     "outputs_hidden": false
    },
    "pycharm": {
     "name": "#%%\n"
    }
   },
   "outputs": [
    {
     "name": "stdout",
     "output_type": "stream",
     "text": [
      "Data has already been unzipped.\n"
     ]
    }
   ],
   "source": [
    "dir_name = 'datasets'\n",
    "if os.path.exists(dir_name):\n",
    "    print(\"Data has already been unzipped.\")\n",
    "else:\n",
    "    if os.path.exists(f'{dir_name}.zip'):\n",
    "        if is_zipfile(f'{dir_name}.zip'):\n",
    "            with ZipFile(f'{dir_name}.zip', 'r') as zip_data_obj:\n",
    "                zip_data_obj.extractall()\n",
    "        else:\n",
    "            print('File exists, but is not a zip archive.')\n",
    "    else:\n",
    "        print('datasets.zip was not found.')\n",
    "\n"
   ]
  },
  {
   "cell_type": "markdown",
   "metadata": {},
   "source": [
    "## Load precoder dataset"
   ]
  },
  {
   "cell_type": "code",
   "execution_count": 40,
   "metadata": {},
   "outputs": [],
   "source": [
    "def load_dataset(dir_name, fading, num_ant, SNR_dB, bit_codebook):\n",
    "\n",
    "    if not os.path.exists(dir_name):\n",
    "        os.makedirs(dir_name)\n",
    "    file_name = f'{dir_name}/{fading}_precoder_data_{num_ant}_ant_SNR_{SNR_dB}dB_{bit_codebook}_bit_codebk'\n",
    "    print(file_name)\n",
    "    with open(f'{file_name}.pkl', 'rb') as f:\n",
    "        precoders, labels = load(f)\n",
    "    return precoders, labels"
   ]
  },
  {
   "cell_type": "markdown",
   "metadata": {},
   "source": [
    "## Visualization of Data"
   ]
  },
  {
   "cell_type": "code",
   "execution_count": 41,
   "metadata": {},
   "outputs": [],
   "source": [
    "def visualize(precoders):\n",
    "    # test plots\n",
    "    for i in range(2):\n",
    "        plt.scatter(precoders[i][0::2], precoders[i][1::2])\n",
    "        plt.show()"
   ]
  },
  {
   "cell_type": "markdown",
   "metadata": {},
   "source": [
    "## Precoder dataset class that packages the dataset into a format compatible with PyTorch"
   ]
  },
  {
   "cell_type": "code",
   "execution_count": 42,
   "metadata": {},
   "outputs": [],
   "source": [
    "class PrecoderDataset(Dataset):\n",
    "    def __init__(self, data, target, transform=None):\n",
    "        self.data = torch.from_numpy(data).float()\n",
    "        self.target = torch.from_numpy(target).long()\n",
    "        self.transform = transform\n",
    "        \n",
    "    def __getitem__(self, index):\n",
    "        x = self.data[index]\n",
    "        y = self.target[index]\n",
    "        \n",
    "        if self.transform:\n",
    "            x = self.transform(x)\n",
    "        return x, y\n",
    "    \n",
    "    def __len__(self):\n",
    "        return len(self.data)"
   ]
  },
  {
   "cell_type": "markdown",
   "metadata": {},
   "source": [
    "## Neural Network Class"
   ]
  },
  {
   "cell_type": "code",
   "execution_count": 43,
   "metadata": {},
   "outputs": [],
   "source": [
    "\n",
    "class Model(torch.nn.Module):\n",
    "    def __init__(self, input_size, output_size):\n",
    "        super(Model, self).__init__()\n",
    "        # define layers and activation function as class parameters\n",
    "        self.fc1 = nn.Linear(in_features=input_size, out_features=100)\n",
    "        self.fc2 = nn.Linear(in_features=100, out_features=100)\n",
    "        self.output = nn.Linear(in_features=100, out_features=output_size)\n",
    "        self.relu = torch.nn.ReLU()\n",
    "        self.softmax = torch.nn.Softmax()\n",
    "\n",
    "    def forward(self, x):\n",
    "        # define NN connections here, output of last layer is pred\n",
    "        x = self.relu(self.fc1(x))\n",
    "        x = self.relu(self.fc2(x))\n",
    "        pred = self.softmax(self.output(x))\n",
    "        return pred\n"
   ]
  },
  {
   "cell_type": "markdown",
   "metadata": {},
   "source": [
    "## Essential System Parameters"
   ]
  },
  {
   "cell_type": "code",
   "execution_count": 44,
   "metadata": {},
   "outputs": [],
   "source": [
    "max_iter = 100000\n",
    "fading = 1\n",
    "num_ant = [2, 4]\n",
    "SNR_dB = [10, 20, 45]\n",
    "bit_codebook = [1, 2]\n",
    "visual = 0"
   ]
  },
  {
   "cell_type": "markdown",
   "metadata": {},
   "source": [
    "## Training Parameters"
   ]
  },
  {
   "cell_type": "code",
   "execution_count": 45,
   "metadata": {},
   "outputs": [],
   "source": [
    "learning_rate = 0.01\n",
    "num_epochs = 100 # Number of times you go through the whole dataset"
   ]
  },
  {
   "cell_type": "markdown",
   "metadata": {
    "pycharm": {
     "name": "#%% md\n"
    }
   },
   "source": [
    "## Simulation iterations\n",
    "1. Load dataset\n",
    "2. Visualize, if necessary \n",
    "3. Create instance of precoder dataset class (Package dataset such that it is compatible for PyTorch)\n",
    "4. Split dataset into 80% training and 20% validation\n",
    "5. Create PyTorch dataloaders for training and validation data (Dataloaders divide the dataset into chuncks called batches. We can pass data to the neural network one batch at a time) \n",
    "6. Create an instance of neural network class\n",
    "7. Define the loss and optimizer\n",
    "8. Epoch - one pass of the entire dataset (training + validation)\n",
    "9. In each epoch you iterate over several batches (Batch - chunk of data that is fed to the neural network in one go) "
   ]
  },
  {
   "cell_type": "code",
   "execution_count": 46,
   "metadata": {
    "collapsed": false,
    "jupyter": {
     "outputs_hidden": false
    },
    "pycharm": {
     "name": "#%%\n"
    }
   },
   "outputs": [
    {
     "name": "stdout",
     "output_type": "stream",
     "text": [
      "======10 dB, 2 antennas, 1 bit codebook======\n",
      "datasets/1_precoder_data_2_ant_SNR_10dB_1_bit_codebk\n",
      "Epoch 1, training loss: 0.60118139, training accuracy: 83.72874999999999%, validation loss: 0.47499609, validation accuracy: 93.365%\n",
      "Epoch 2, training loss: 0.42197457, training accuracy: 93.42%, validation loss: 0.39789033, validation accuracy: 93.45%\n",
      "Epoch 3, training loss: 0.39064589, training accuracy: 93.4525%, validation loss: 0.38668483, validation accuracy: 93.46%\n",
      "Epoch 4, training loss: 0.38412699, training accuracy: 93.4525%, validation loss: 0.38300192, validation accuracy: 93.445%\n",
      "Epoch 5, training loss: 0.38151434, training accuracy: 93.45375%, validation loss: 0.38125932, validation accuracy: 93.445%\n",
      "Epoch 6, training loss: 0.38013044, training accuracy: 93.45875%, validation loss: 0.37999573, validation accuracy: 93.46%\n",
      "Epoch 7, training loss: 0.37927765, training accuracy: 93.4375%, validation loss: 0.37968200, validation accuracy: 93.46%\n",
      "Epoch 8, training loss: 0.37871498, training accuracy: 93.45%, validation loss: 0.37872386, validation accuracy: 93.445%\n",
      "Epoch 9, training loss: 0.37830138, training accuracy: 93.44875%, validation loss: 0.37876728, validation accuracy: 93.445%\n",
      "Epoch 10, training loss: 0.37800956, training accuracy: 93.44749999999999%, validation loss: 0.37828308, validation accuracy: 93.455%\n",
      "======10 dB, 2 antennas, 2 bit codebook======\n",
      "datasets/1_precoder_data_2_ant_SNR_10dB_2_bit_codebk\n",
      "Epoch 1, training loss: 1.37843037, training accuracy: 34.612500000000004%, validation loss: 1.36621773, validation accuracy: 49.99%\n",
      "Epoch 2, training loss: 1.34389293, training accuracy: 56.055%, validation loss: 1.31081057, validation accuracy: 52.075%\n",
      "Epoch 3, training loss: 1.25735283, training accuracy: 49.253750000000004%, validation loss: 1.20831895, validation accuracy: 50.475%\n",
      "Epoch 4, training loss: 1.17697227, training accuracy: 58.269999999999996%, validation loss: 1.14815581, validation accuracy: 64.8%\n",
      "Epoch 5, training loss: 1.12710726, training accuracy: 67.77374999999999%, validation loss: 1.10749280, validation accuracy: 69.1%\n",
      "Epoch 6, training loss: 1.09557796, training accuracy: 69.7175%, validation loss: 1.08396995, validation accuracy: 69.71000000000001%\n",
      "Epoch 7, training loss: 1.07679594, training accuracy: 70.04125%, validation loss: 1.06914651, validation accuracy: 70.185%\n",
      "Epoch 8, training loss: 1.06534994, training accuracy: 70.12875%, validation loss: 1.06044197, validation accuracy: 70.275%\n",
      "Epoch 9, training loss: 1.05809832, training accuracy: 70.17750000000001%, validation loss: 1.05446160, validation accuracy: 70.3%\n",
      "Epoch 10, training loss: 1.05326891, training accuracy: 70.15375%, validation loss: 1.05050325, validation accuracy: 70.36%\n",
      "======10 dB, 4 antennas, 1 bit codebook======\n",
      "datasets/1_precoder_data_4_ant_SNR_10dB_1_bit_codebk\n",
      "Epoch 1, training loss: 0.62683004, training accuracy: 89.66499999999999%, validation loss: 0.50699377, validation accuracy: 97.115%\n",
      "Epoch 2, training loss: 0.41070524, training accuracy: 97.68375%, validation loss: 0.36318517, validation accuracy: 98.03%\n",
      "Epoch 3, training loss: 0.35069454, training accuracy: 98.3%, validation loss: 0.34254843, validation accuracy: 98.465%\n",
      "Epoch 4, training loss: 0.33835915, training accuracy: 98.56125%, validation loss: 0.33504927, validation accuracy: 98.69%\n",
      "Epoch 5, training loss: 0.33310342, training accuracy: 98.73625%, validation loss: 0.33139628, validation accuracy: 98.81%\n",
      "Epoch 6, training loss: 0.33012453, training accuracy: 98.845%, validation loss: 0.32918140, validation accuracy: 98.9%\n",
      "Epoch 7, training loss: 0.32817626, training accuracy: 98.94125%, validation loss: 0.32748154, validation accuracy: 98.95%\n",
      "Epoch 8, training loss: 0.32680663, training accuracy: 99.0025%, validation loss: 0.32641491, validation accuracy: 98.995%\n",
      "Epoch 9, training loss: 0.32577479, training accuracy: 99.05874999999999%, validation loss: 0.32552436, validation accuracy: 99.065%\n",
      "Epoch 10, training loss: 0.32497481, training accuracy: 99.09%, validation loss: 0.32488188, validation accuracy: 99.1%\n",
      "======10 dB, 4 antennas, 2 bit codebook======\n",
      "datasets/1_precoder_data_4_ant_SNR_10dB_2_bit_codebk\n",
      "Epoch 1, training loss: 1.38346338, training accuracy: 40.2875%, validation loss: 1.37934792, validation accuracy: 53.269999999999996%\n",
      "Epoch 2, training loss: 1.37326515, training accuracy: 57.95625%, validation loss: 1.36545086, validation accuracy: 60.485%\n",
      "Epoch 3, training loss: 1.34937787, training accuracy: 59.355000000000004%, validation loss: 1.32688451, validation accuracy: 56.28999999999999%\n",
      "Epoch 4, training loss: 1.27855229, training accuracy: 54.49%, validation loss: 1.22581470, validation accuracy: 53.75%\n",
      "Epoch 5, training loss: 1.17641640, training accuracy: 58.833749999999995%, validation loss: 1.13841701, validation accuracy: 63.675000000000004%\n",
      "Epoch 6, training loss: 1.09723794, training accuracy: 68.30375%, validation loss: 1.06177986, validation accuracy: 75.63%\n",
      "Epoch 7, training loss: 1.02308631, training accuracy: 80.26375%, validation loss: 0.99475467, validation accuracy: 82.205%\n",
      "Epoch 8, training loss: 0.96945745, training accuracy: 83.4675%, validation loss: 0.95257950, validation accuracy: 84.055%\n",
      "Epoch 9, training loss: 0.93607432, training accuracy: 85.0%, validation loss: 0.92608601, validation accuracy: 85.355%\n",
      "Epoch 10, training loss: 0.91451895, training accuracy: 86.09750000000001%, validation loss: 0.90839976, validation accuracy: 86.385%\n",
      "======20 dB, 2 antennas, 1 bit codebook======\n",
      "datasets/1_precoder_data_2_ant_SNR_20dB_1_bit_codebk\n",
      "Epoch 1, training loss: 0.52154070, training accuracy: 96.56%, validation loss: 0.36765480, validation accuracy: 99.8%\n",
      "Epoch 2, training loss: 0.33919483, training accuracy: 99.7775%, validation loss: 0.32653499, validation accuracy: 99.8%\n",
      "Epoch 3, training loss: 0.32314304, training accuracy: 99.77625%, validation loss: 0.32084122, validation accuracy: 99.795%\n",
      "Epoch 4, training loss: 0.31971431, training accuracy: 99.775%, validation loss: 0.31880036, validation accuracy: 99.795%\n",
      "Epoch 5, training loss: 0.31832245, training accuracy: 99.77625%, validation loss: 0.31771666, validation accuracy: 99.795%\n",
      "Epoch 6, training loss: 0.31758827, training accuracy: 99.77375%, validation loss: 0.31715491, validation accuracy: 99.79%\n",
      "Epoch 7, training loss: 0.31714091, training accuracy: 99.7775%, validation loss: 0.31689906, validation accuracy: 99.79%\n",
      "Epoch 8, training loss: 0.31684160, training accuracy: 99.77625%, validation loss: 0.31654242, validation accuracy: 99.795%\n",
      "Epoch 9, training loss: 0.31662965, training accuracy: 99.77625%, validation loss: 0.31635779, validation accuracy: 99.79%\n",
      "Epoch 10, training loss: 0.31647143, training accuracy: 99.77375%, validation loss: 0.31621963, validation accuracy: 99.795%\n",
      "======20 dB, 2 antennas, 2 bit codebook======\n",
      "datasets/1_precoder_data_2_ant_SNR_20dB_2_bit_codebk\n",
      "Epoch 1, training loss: 1.36918449, training accuracy: 37.86%, validation loss: 1.34544277, validation accuracy: 72.475%\n",
      "Epoch 2, training loss: 1.29057205, training accuracy: 56.7875%, validation loss: 1.21180415, validation accuracy: 50.654999999999994%\n",
      "Epoch 3, training loss: 1.13498938, training accuracy: 63.06125%, validation loss: 1.05858505, validation accuracy: 87.24499999999999%\n",
      "Epoch 4, training loss: 0.98680985, training accuracy: 95.64125%, validation loss: 0.92065847, validation accuracy: 97.695%\n",
      "Epoch 5, training loss: 0.87763661, training accuracy: 97.78625%, validation loss: 0.84451294, validation accuracy: 97.82499999999999%\n",
      "Epoch 6, training loss: 0.82629120, training accuracy: 97.83874999999999%, validation loss: 0.81231809, validation accuracy: 97.82499999999999%\n",
      "Epoch 7, training loss: 0.80401486, training accuracy: 97.84125%, validation loss: 0.79751837, validation accuracy: 97.85000000000001%\n",
      "Epoch 8, training loss: 0.79291064, training accuracy: 97.84375%, validation loss: 0.78927809, validation accuracy: 97.85000000000001%\n",
      "Epoch 9, training loss: 0.78654724, training accuracy: 97.84375%, validation loss: 0.78437752, validation accuracy: 97.845%\n",
      "Epoch 10, training loss: 0.78250128, training accuracy: 97.85000000000001%, validation loss: 0.78087181, validation accuracy: 97.845%\n",
      "======20 dB, 4 antennas, 1 bit codebook======\n",
      "datasets/1_precoder_data_4_ant_SNR_20dB_1_bit_codebk\n",
      "Epoch 1, training loss: 0.56609434, training accuracy: 97.35249999999999%, validation loss: 0.38811144, validation accuracy: 99.985%\n",
      "Epoch 2, training loss: 0.34192914, training accuracy: 99.99249999999999%, validation loss: 0.32453692, validation accuracy: 99.995%\n",
      "Epoch 3, training loss: 0.32069325, training accuracy: 99.99875%, validation loss: 0.31827170, validation accuracy: 100.0%\n",
      "Epoch 4, training loss: 0.31720951, training accuracy: 99.99875%, validation loss: 0.31634685, validation accuracy: 100.0%\n",
      "Epoch 5, training loss: 0.31589890, training accuracy: 99.99875%, validation loss: 0.31545919, validation accuracy: 100.0%\n",
      "Epoch 6, training loss: 0.31522861, training accuracy: 99.99875%, validation loss: 0.31496170, validation accuracy: 100.0%\n",
      "Epoch 7, training loss: 0.31482607, training accuracy: 99.99875%, validation loss: 0.31463790, validation accuracy: 100.0%\n",
      "Epoch 8, training loss: 0.31455907, training accuracy: 99.99875%, validation loss: 0.31441662, validation accuracy: 100.0%\n",
      "Epoch 9, training loss: 0.31436968, training accuracy: 99.99875%, validation loss: 0.31425527, validation accuracy: 100.0%\n",
      "Epoch 10, training loss: 0.31422856, training accuracy: 99.99875%, validation loss: 0.31413570, validation accuracy: 100.0%\n",
      "======20 dB, 4 antennas, 2 bit codebook======\n",
      "datasets/1_precoder_data_4_ant_SNR_20dB_2_bit_codebk\n",
      "Epoch 1, training loss: 1.37510800, training accuracy: 40.50875%, validation loss: 1.36000049, validation accuracy: 50.044999999999995%\n",
      "Epoch 2, training loss: 1.32443559, training accuracy: 64.80875%, validation loss: 1.26433957, validation accuracy: 63.81%\n",
      "Epoch 3, training loss: 1.16496634, training accuracy: 61.7275%, validation loss: 1.06346142, validation accuracy: 89.275%\n",
      "Epoch 4, training loss: 0.95210665, training accuracy: 97.545%, validation loss: 0.86129761, validation accuracy: 99.03999999999999%\n",
      "Epoch 5, training loss: 0.82167345, training accuracy: 99.14125%, validation loss: 0.79589039, validation accuracy: 99.245%\n",
      "Epoch 6, training loss: 0.78430134, training accuracy: 99.25500000000001%, validation loss: 0.77575165, validation accuracy: 99.33%\n",
      "Epoch 7, training loss: 0.77096409, training accuracy: 99.345%, validation loss: 0.76713103, validation accuracy: 99.375%\n",
      "Epoch 8, training loss: 0.76448900, training accuracy: 99.40124999999999%, validation loss: 0.76231647, validation accuracy: 99.41499999999999%\n",
      "Epoch 9, training loss: 0.76068759, training accuracy: 99.46249999999999%, validation loss: 0.75929654, validation accuracy: 99.46000000000001%\n",
      "Epoch 10, training loss: 0.75817573, training accuracy: 99.51%, validation loss: 0.75723678, validation accuracy: 99.495%\n",
      "======45 dB, 2 antennas, 1 bit codebook======\n",
      "datasets/1_precoder_data_2_ant_SNR_45dB_1_bit_codebk\n",
      "Epoch 1, training loss: 0.54635382, training accuracy: 91.21875%, validation loss: 0.37453979, validation accuracy: 100.0%\n",
      "Epoch 2, training loss: 0.33858320, training accuracy: 100.0%, validation loss: 0.32397136, validation accuracy: 100.0%\n",
      "Epoch 3, training loss: 0.32034650, training accuracy: 100.0%, validation loss: 0.31805184, validation accuracy: 100.0%\n",
      "Epoch 4, training loss: 0.31696674, training accuracy: 100.0%, validation loss: 0.31615660, validation accuracy: 100.0%\n",
      "Epoch 5, training loss: 0.31566700, training accuracy: 100.0%, validation loss: 0.31527266, validation accuracy: 100.0%\n",
      "Epoch 6, training loss: 0.31500238, training accuracy: 100.0%, validation loss: 0.31477535, validation accuracy: 100.0%\n",
      "Epoch 7, training loss: 0.31460688, training accuracy: 100.0%, validation loss: 0.31446174, validation accuracy: 100.0%\n",
      "Epoch 8, training loss: 0.31434798, training accuracy: 100.0%, validation loss: 0.31424829, validation accuracy: 100.0%\n",
      "Epoch 9, training loss: 0.31416675, training accuracy: 100.0%, validation loss: 0.31409451, validation accuracy: 100.0%\n",
      "Epoch 10, training loss: 0.31403351, training accuracy: 100.0%, validation loss: 0.31397915, validation accuracy: 100.0%\n",
      "======45 dB, 2 antennas, 2 bit codebook======\n",
      "datasets/1_precoder_data_2_ant_SNR_45dB_2_bit_codebk\n",
      "Epoch 1, training loss: 1.37321889, training accuracy: 63.212500000000006%, validation loss: 1.35524833, validation accuracy: 75.155%\n",
      "Epoch 2, training loss: 1.31280065, training accuracy: 53.083749999999995%, validation loss: 1.24338520, validation accuracy: 50.3%\n",
      "Epoch 3, training loss: 1.16886044, training accuracy: 49.84375%, validation loss: 1.10171092, validation accuracy: 50.315%\n",
      "Epoch 4, training loss: 1.02051890, training accuracy: 91.14750000000001%, validation loss: 0.93155509, validation accuracy: 99.995%\n",
      "Epoch 5, training loss: 0.86594677, training accuracy: 100.0%, validation loss: 0.81718969, validation accuracy: 100.0%\n",
      "Epoch 6, training loss: 0.79431885, training accuracy: 100.0%, validation loss: 0.77802366, validation accuracy: 100.0%\n",
      "Epoch 7, training loss: 0.76983237, training accuracy: 100.0%, validation loss: 0.76351744, validation accuracy: 100.0%\n",
      "Epoch 8, training loss: 0.75985801, training accuracy: 100.0%, validation loss: 0.75684059, validation accuracy: 100.0%\n",
      "Epoch 9, training loss: 0.75490212, training accuracy: 100.0%, validation loss: 0.75321835, validation accuracy: 100.0%\n",
      "Epoch 10, training loss: 0.75205743, training accuracy: 100.0%, validation loss: 0.75100791, validation accuracy: 100.0%\n",
      "======45 dB, 4 antennas, 1 bit codebook======\n",
      "datasets/1_precoder_data_4_ant_SNR_45dB_1_bit_codebk\n",
      "Epoch 1, training loss: 0.49791846, training accuracy: 96.1425%, validation loss: 0.34822136, validation accuracy: 100.0%\n",
      "Epoch 2, training loss: 0.32882544, training accuracy: 100.0%, validation loss: 0.32047367, validation accuracy: 100.0%\n",
      "Epoch 3, training loss: 0.31817120, training accuracy: 100.0%, validation loss: 0.31666753, validation accuracy: 100.0%\n",
      "Epoch 4, training loss: 0.31592977, training accuracy: 100.0%, validation loss: 0.31536964, validation accuracy: 100.0%\n",
      "Epoch 5, training loss: 0.31502715, training accuracy: 100.0%, validation loss: 0.31474701, validation accuracy: 100.0%\n",
      "Epoch 6, training loss: 0.31455433, training accuracy: 100.0%, validation loss: 0.31438980, validation accuracy: 100.0%\n",
      "Epoch 7, training loss: 0.31426832, training accuracy: 100.0%, validation loss: 0.31416160, validation accuracy: 100.0%\n",
      "Epoch 8, training loss: 0.31407890, training accuracy: 100.0%, validation loss: 0.31400487, validation accuracy: 100.0%\n",
      "Epoch 9, training loss: 0.31394529, training accuracy: 100.0%, validation loss: 0.31389117, validation accuracy: 100.0%\n",
      "Epoch 10, training loss: 0.31384650, training accuracy: 100.0%, validation loss: 0.31380537, validation accuracy: 100.0%\n",
      "======45 dB, 4 antennas, 2 bit codebook======\n",
      "datasets/1_precoder_data_4_ant_SNR_45dB_2_bit_codebk\n",
      "Epoch 1, training loss: 1.37443042, training accuracy: 59.896249999999995%, validation loss: 1.35807300, validation accuracy: 99.995%\n",
      "Epoch 2, training loss: 1.32253540, training accuracy: 99.99749999999999%, validation loss: 1.26210093, validation accuracy: 100.0%\n",
      "Epoch 3, training loss: 1.12167060, training accuracy: 99.99875%, validation loss: 0.95898497, validation accuracy: 100.0%\n",
      "Epoch 4, training loss: 0.85421258, training accuracy: 100.0%, validation loss: 0.79385287, validation accuracy: 100.0%\n",
      "Epoch 5, training loss: 0.77538681, training accuracy: 100.0%, validation loss: 0.76374805, validation accuracy: 100.0%\n",
      "Epoch 6, training loss: 0.75866050, training accuracy: 100.0%, validation loss: 0.75489241, validation accuracy: 100.0%\n",
      "Epoch 7, training loss: 0.75278831, training accuracy: 100.0%, validation loss: 0.75107539, validation accuracy: 100.0%\n",
      "Epoch 8, training loss: 0.74998826, training accuracy: 100.0%, validation loss: 0.74904752, validation accuracy: 100.0%\n",
      "Epoch 9, training loss: 0.74840194, training accuracy: 100.0%, validation loss: 0.74782044, validation accuracy: 100.0%\n",
      "Epoch 10, training loss: 0.74740064, training accuracy: 100.0%, validation loss: 0.74700892, validation accuracy: 100.0%\n"
     ]
    },
    {
     "name": "stderr",
     "output_type": "stream",
     "text": [
      "C:\\Users\\bup48\\anaconda3\\envs\\Py37\\lib\\site-packages\\ipykernel_launcher.py:15: UserWarning: Implicit dimension choice for softmax has been deprecated. Change the call to include dim=X as an argument.\n",
      "  from ipykernel import kernelapp as app\n"
     ]
    }
   ],
   "source": [
    "validation_accuracy = zeros((len(SNR_dB), len(num_ant), len(bit_codebook), num_epochs))\n",
    "validation_loss_buffer = zeros((len(SNR_dB), len(num_ant), len(bit_codebook), num_epochs))\n",
    "snr_loop = 0\n",
    "for SNR in SNR_dB:\n",
    "    ant_loop = 0\n",
    "    for ant in num_ant:\n",
    "        bit_loop = 0\n",
    "        for bit in bit_codebook:\n",
    "            print(f'======{SNR} dB, {ant} antennas, {bit} bit codebook======')\n",
    "\n",
    "            precoders, labels = load_dataset('datasets', fading, ant, SNR, bit)\n",
    "            if visual == 1:\n",
    "                visualize(precoders)\n",
    "\n",
    "            precoder_data = stack(precoders, axis=0)\n",
    "            precoder_labels = array(labels)\n",
    "\n",
    "            precoder_dataset = PrecoderDataset(precoder_data, precoder_labels)\n",
    "            train, val = random_split(precoder_dataset, [int(0.8*max_iter), int(0.2*max_iter)])\n",
    "            train_loader = DataLoader(train, batch_size=128, shuffle=True, num_workers=0)\n",
    "            val_loader = DataLoader(val, batch_size=128, shuffle=True, num_workers=0)\n",
    "\n",
    "            num_classes = 2**bit\n",
    "            nn_input_size = 2*ant*ant\n",
    "            nn_output_size = num_classes\n",
    "\n",
    "            model = Model(nn_input_size, nn_output_size)\n",
    "\n",
    "            if torch.cuda.is_available():\n",
    "                model.cuda()\n",
    "\n",
    "            optimizer = optim.SGD(model.parameters(), lr=learning_rate)\n",
    "            # optimizer = optim.Adam(model.parameters(), lr=learning_rate)\n",
    "            loss = nn.CrossEntropyLoss()\n",
    "            for epoch in range(num_epochs):\n",
    "\n",
    "                # TRAINING\n",
    "                model.train()\n",
    "                training_total_correct = 0\n",
    "                training_losses = list()\n",
    "                for batch in train_loader:\n",
    "\n",
    "                    x, y = batch # extracted from the batch\n",
    "\n",
    "                    if torch.cuda.is_available():\n",
    "                        x = x.cuda()\n",
    "                        y = y.cuda()\n",
    "\n",
    "                    # step 1: forward pass\n",
    "                    prob = model(x)\n",
    "\n",
    "                    output = prob\n",
    "                    target = y\n",
    "\n",
    "                    # step 2: compute objective function - measuring distance between the output of the network vs actual answer\n",
    "                    obj_func = loss(output, target)\n",
    "\n",
    "                    # step 3: clear the gradients\n",
    "                    model.zero_grad()\n",
    "\n",
    "                    # step 4: accumulate partial derivatives of obj_func wrt parameters\n",
    "                    obj_func.backward()\n",
    "\n",
    "                    # step 5: step in the opposite direction of the gradient\n",
    "                    optimizer.step()\n",
    "\n",
    "                    training_losses.append(obj_func.item())\n",
    "\n",
    "                    max_prob, max_ind = torch.max(output, 1)\n",
    "                    for ind in range(len(max_ind)):\n",
    "                        if torch.equal(max_ind[ind], y[ind]):\n",
    "                            training_total_correct += 1\n",
    "\n",
    "                # VALIDATION\n",
    "                model.eval()\n",
    "\n",
    "                validation_total_correct = 0\n",
    "                validation_losses = list()\n",
    "                for batch in val_loader:\n",
    "\n",
    "                    x, y = batch # extracted from the batch\n",
    "\n",
    "                    if torch.cuda.is_available():\n",
    "                        x = x.cuda()\n",
    "                        y = y.cuda()\n",
    "\n",
    "                    # step 1: forward pass\n",
    "                    with torch.no_grad():\n",
    "                        prob = model(x)\n",
    "\n",
    "                    output = prob\n",
    "                    target = y\n",
    "\n",
    "                    # step 2: compute objective function - measuring distance between the output of the network vs actual answer\n",
    "                    obj_func = loss(output, target)\n",
    "                    validation_losses.append(obj_func.item())\n",
    "\n",
    "                    max_prob, max_ind = torch.max(output, 1)\n",
    "\n",
    "                    for ind in range(len(max_ind)):\n",
    "                        if torch.equal(max_ind[ind], y[ind]):\n",
    "                            validation_total_correct += 1\n",
    "                training_accuracy = (training_total_correct/len(train))*100\n",
    "                validation_accuracy[snr_loop, ant_loop, bit_loop, epoch] = (validation_total_correct/len(val))*100\n",
    "                validation_loss_buffer[snr_loop, ant_loop, bit_loop, epoch] = torch.tensor(validation_losses).mean()\n",
    "\n",
    "                print(f'Epoch {epoch + 1}, training loss: {torch.tensor(training_losses).mean():.8f}, training accuracy: {training_accuracy}%, validation loss: {torch.tensor(validation_losses).mean():.8f}, validation accuracy: {validation_accuracy[snr_loop, ant_loop, bit_loop, epoch]}%')\n",
    "            bit_loop += 1\n",
    "        ant_loop += 1\n",
    "    snr_loop += 1"
   ]
  },
  {
   "cell_type": "markdown",
   "source": [
    "## Dump validation results"
   ],
   "metadata": {
    "collapsed": false
   }
  },
  {
   "cell_type": "code",
   "execution_count": 47,
   "outputs": [],
   "source": [
    "acc_pkl = 'validation_accuracy.pkl'\n",
    "loss_pkl = 'validation_loss.pkl'\n",
    "\n",
    "acc_pkl_file = open(acc_pkl, 'wb')\n",
    "loss_pkl_file = open(loss_pkl, 'wb')\n",
    "\n",
    "dump(validation_accuracy, acc_pkl_file)\n",
    "dump(validation_loss_buffer, loss_pkl_file)\n",
    "\n",
    "acc_pkl_file.close()\n",
    "loss_pkl_file.close()\n"
   ],
   "metadata": {
    "collapsed": false,
    "pycharm": {
     "name": "#%%\n"
    }
   }
  }
 ],
 "metadata": {
  "kernelspec": {
   "display_name": "Python 3",
   "language": "python",
   "name": "python3"
  },
  "language_info": {
   "codemirror_mode": {
    "name": "ipython",
    "version": 3
   },
   "file_extension": ".py",
   "mimetype": "text/x-python",
   "name": "python",
   "nbconvert_exporter": "python",
   "pygments_lexer": "ipython3",
   "version": "3.7.9"
  }
 },
 "nbformat": 4,
 "nbformat_minor": 4
}